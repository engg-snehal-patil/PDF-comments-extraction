{
 "cells": [
  {
   "cell_type": "code",
   "execution_count": null,
   "id": "1488b28e",
   "metadata": {},
   "outputs": [],
   "source": [
    "filename=\"Filename.pdf\"\n",
    "doc = fitz.open(filename)\n",
    "total_pages=doc.page_count\n",
    "         \n",
    "\n",
    "for i in range(0,total_pages):\n",
    "    try:\n",
    "        \n",
    "        page=doc[i]\n",
    "        for annot in page.annots(types=[fitz.PDF_ANNOT_FREE_TEXT,fitz.PDF_ANNOT_TEXT,fitz.PDF_ANNOT_CIRCLE,fitz.PDF_ANNOT_HIGHLIGHT,fitz.PDF_ANNOT_LE_OPEN_ARROW,fitz.PDF_ANNOT_SQUARE,fitz.PDF_ANNOT_LINE,fitz.PDF_ANNOT_POLY_LINE,fitz.PDF_ANNOT_LE_DIAMOND] ):\n",
    "        print(annot.info['content'])\n",
    "                            \n",
    "    except:\n",
    "        pass     \n",
    "                           \n",
    "                       \n",
    "                               "
   ]
  }
 ],
 "metadata": {
  "kernelspec": {
   "display_name": "Python 3 (ipykernel)",
   "language": "python",
   "name": "python3"
  },
  "language_info": {
   "codemirror_mode": {
    "name": "ipython",
    "version": 3
   },
   "file_extension": ".py",
   "mimetype": "text/x-python",
   "name": "python",
   "nbconvert_exporter": "python",
   "pygments_lexer": "ipython3",
   "version": "3.8.8"
  }
 },
 "nbformat": 4,
 "nbformat_minor": 5
}
